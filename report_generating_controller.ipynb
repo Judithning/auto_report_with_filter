{
 "cells": [
  {
   "cell_type": "code",
   "execution_count": 3,
   "metadata": {},
   "outputs": [],
   "source": [
    "import sys\n",
    "import os\n",
    "import datetime\n",
    "\n",
    "#variable=sys.argv\n",
    "path=os.getcwd()\n",
    "def controller(argu):\n",
    "    '''\n",
    "    argu=''\n",
    "    for x in variable:\n",
    "        l = ' '+x\n",
    "        argu+=l\n",
    "    '''\n",
    "    #argu = 'filename.py 10.1.1.202:3306-TEST VC,TR S,10.1.1.32, 10.1.1.40 2018-11-01,2018-11-23'\n",
    "    with open(path+'\\\\'+'sys_para.txt','w') as f:\n",
    "        f.write(argu)\n",
    "    time_now = (datetime.datetime.now()-datetime.timedelta(days=1)).strftime('%Y.%m.%d')\n",
    "    os.system('jupyter nbconvert --execute generate_reports_with_filtering_V1.ipynb')\n",
    "    #os.rename('generate reports with filtering-v1.html','数据指标自动生成报告'+'time_now'+'.html')\n"
   ]
  },
  {
   "cell_type": "code",
   "execution_count": 4,
   "metadata": {},
   "outputs": [
    {
     "data": {
      "text/plain": [
       "'D:\\\\auto_report_with_filter'"
      ]
     },
     "execution_count": 4,
     "metadata": {},
     "output_type": "execute_result"
    }
   ],
   "source": [
    "path"
   ]
  },
  {
   "cell_type": "code",
   "execution_count": 17,
   "metadata": {},
   "outputs": [],
   "source": [
    "controller(sys.argv[1])"
   ]
  },
  {
   "cell_type": "code",
   "execution_count": 11,
   "metadata": {},
   "outputs": [],
   "source": [
    "'''\n",
    "import os\n",
    "import pandas as pd\n",
    "import datetime\n",
    "import os.path as osp\n",
    "import sys\n",
    "\n",
    "\n",
    "env=os.environ\n",
    "env['IPYTHONARGV'] = '10.1.1.202:3306-TEST VC,TR S,10.1.1.32, 10.1.1.40 2018-11-01,2018-11-23'#sys.argv[1:]\n",
    "file='generate reports with filtering-v1.ipynb'\n",
    "os.execlpe('jupyter','jupyter','nbconvert','--execute',file,env)\n",
    "time_now = (datetime.datetime.now()-datetime.timedelta(days=1)).strftime('%Y.%m.%d')\n",
    "#argu = ' 10.1.1.202:3306-TEST VC,TR S,10.1.1.32, 10.1.1.40 2018-11-01,2018-11-23'\n",
    "#os.system('jupyter nbconvert --execute generate reports with filtering-v1.ipynb')#+argu)\n",
    "os.rename('generate reports with filtering-v1.html','数据指标自动生成报告'+'time_now'+'.html')\n",
    "''';"
   ]
  },
  {
   "cell_type": "code",
   "execution_count": null,
   "metadata": {},
   "outputs": [],
   "source": []
  }
 ],
 "metadata": {
  "kernelspec": {
   "display_name": "Python 3",
   "language": "python",
   "name": "python3"
  },
  "language_info": {
   "codemirror_mode": {
    "name": "ipython",
    "version": 3
   },
   "file_extension": ".py",
   "mimetype": "text/x-python",
   "name": "python",
   "nbconvert_exporter": "python",
   "pygments_lexer": "ipython3",
   "version": "3.6.4"
  }
 },
 "nbformat": 4,
 "nbformat_minor": 2
}
